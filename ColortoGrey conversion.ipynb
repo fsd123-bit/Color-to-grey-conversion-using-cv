{
  "nbformat": 4,
  "nbformat_minor": 0,
  "metadata": {
    "colab": {
      "provenance": [],
      "authorship_tag": "ABX9TyNUXUu0xTEtpRDscPOJKl9W",
      "include_colab_link": true
    },
    "kernelspec": {
      "name": "python3",
      "display_name": "Python 3"
    },
    "language_info": {
      "name": "python"
    }
  },
  "cells": [
    {
      "cell_type": "markdown",
      "metadata": {
        "id": "view-in-github",
        "colab_type": "text"
      },
      "source": [
        "<a href=\"https://colab.research.google.com/github/ManthanVerma7/TIET-SS-MiniProject-23-ColorToGreyConversion/blob/main/ColortoGrey.ipynb\" target=\"_parent\"><img src=\"https://colab.research.google.com/assets/colab-badge.svg\" alt=\"Open In Colab\"/></a>"
      ]
    },
    {
      "cell_type": "code",
      "source": [
        "import cv2\n",
        "import os\n",
        "\n",
        "input_folder = 'input_images'\n",
        "output_folder = 'greyscale_images'\n",
        "os.makedirs(output_folder, exist_ok=True)\n",
        "\n",
        "for filename in os.listdir(input_folder):\n",
        "    if filename.endswith(('.jpg', '.png', '.jpeg')):\n",
        "        img = cv2.imread(os.path.join(input_folder, filename))\n",
        "        grey_img = cv2.cvtColor(img, cv2.COLOR_BGR2GRAY)\n",
        "        cv2.imwrite(os.path.join(output_folder, filename), grey_img)\n",
        "\n",
        "print(\"All images converted to greyscale.\")\n"
      ],
      "metadata": {
        "colab": {
          "base_uri": "https://localhost:8080/"
        },
        "id": "T-OfIFjJNz3U",
        "outputId": "a29d087c-85ed-41e3-fa22-9fa38b0189c9"
      },
      "execution_count": 5,
      "outputs": [
        {
          "output_type": "stream",
          "name": "stdout",
          "text": [
            "All images converted to greyscale.\n"
          ]
        }
      ]
    }
  ]
}